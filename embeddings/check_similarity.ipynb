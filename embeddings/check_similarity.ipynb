{
 "cells": [
  {
   "cell_type": "code",
   "execution_count": 12,
   "id": "cce57f08-0e77-429b-87be-aa9154841266",
   "metadata": {},
   "outputs": [],
   "source": [
    "import utils as utl\n",
    "import numpy as np\n",
    "from sklearn.preprocessing import normalize\n",
    "\n",
    "chunk_list_file = \"../.data/embedding_chunks.json\"\n",
    "vectors_file=\"../.data/vectors.pkl\"\n",
    "# 'text-embedding-ada-002', 'all-MiniLM-L6-v2'\n",
    "model=\"all-MiniLM-L6-v2\""
   ]
  },
  {
   "cell_type": "code",
   "execution_count": 6,
   "id": "cf510ac2-1065-4e4f-9aaa-4db33e49ae17",
   "metadata": {},
   "outputs": [
    {
     "name": "stdout",
     "output_type": "stream",
     "text": [
      " pickle file returned 1363 vectors for model 'all-MiniLM-L6-v2'\n"
     ]
    }
   ],
   "source": [
    "embeddings = utl.load_pickle(vectors_file)\n",
    "vectors = embeddings[model]\n",
    "print(f\" pickle file returned {len(vectors)} vectors for model '{model}'\")"
   ]
  },
  {
   "cell_type": "code",
   "execution_count": 8,
   "id": "055235c6-d0ef-4fd1-8c5a-95be43380e41",
   "metadata": {},
   "outputs": [
    {
     "name": "stdout",
     "output_type": "stream",
     "text": [
      " chunk list of vectors has 1502 non unique chunk\n"
     ]
    }
   ],
   "source": [
    "chunk_list = utl.load_json(chunk_list_file)\n",
    "print(f\" chunk list of vectors has {len(chunk_list)} non unique chunk\")"
   ]
  },
  {
   "cell_type": "code",
   "execution_count": 20,
   "id": "77213aff-60d3-43ee-9b9f-98f195ab3cb7",
   "metadata": {},
   "outputs": [
    {
     "name": "stdout",
     "output_type": "stream",
     "text": [
      " => 1 embeddings in 158 ms \n"
     ]
    }
   ],
   "source": [
    "sentence = \"A smart sensor with a modern wireless protocol, that can sense the environment without consuming much power\"\n",
    "query_vector = utl.get_one_embedding(sentence,model)\n",
    "np_query_vector = np.array(query_vector)"
   ]
  },
  {
   "cell_type": "code",
   "execution_count": 11,
   "id": "3fd0426b-c483-4e3e-b2b0-88606f40c939",
   "metadata": {},
   "outputs": [
    {
     "data": {
      "text/plain": [
       "1363"
      ]
     },
     "execution_count": 11,
     "metadata": {},
     "output_type": "execute_result"
    }
   ],
   "source": [
    "len(vectors.values())"
   ]
  },
  {
   "cell_type": "code",
   "execution_count": 15,
   "id": "80e70254-60f2-4351-b6fc-aa790c4f0909",
   "metadata": {},
   "outputs": [
    {
     "data": {
      "text/plain": [
       "(1363, 384)"
      ]
     },
     "execution_count": 15,
     "metadata": {},
     "output_type": "execute_result"
    }
   ],
   "source": [
    "np_vectors = np.array(list(vectors.values()))\n",
    "np_vectors.shape"
   ]
  },
  {
   "cell_type": "code",
   "execution_count": 16,
   "id": "9313500c-b04f-4099-9204-872400e58705",
   "metadata": {},
   "outputs": [],
   "source": [
    "norms = np.linalg.norm(np_vectors, axis=1)"
   ]
  },
  {
   "cell_type": "code",
   "execution_count": 17,
   "id": "61149fe5-1cc6-4dea-8aae-92fdaa59efb1",
   "metadata": {},
   "outputs": [
    {
     "data": {
      "text/plain": [
       "array([1.00000005, 1.00000008, 1.00000006, ..., 1.00000009, 1.00000006,\n",
       "       0.99999998])"
      ]
     },
     "execution_count": 17,
     "metadata": {},
     "output_type": "execute_result"
    }
   ],
   "source": [
    "norms"
   ]
  },
  {
   "cell_type": "code",
   "execution_count": 21,
   "id": "620ad70e-dae2-44cf-8d28-ff988d485475",
   "metadata": {},
   "outputs": [
    {
     "data": {
      "text/plain": [
       "(384,)"
      ]
     },
     "execution_count": 21,
     "metadata": {},
     "output_type": "execute_result"
    }
   ],
   "source": [
    "np_query_vector.shape"
   ]
  },
  {
   "cell_type": "code",
   "execution_count": 22,
   "id": "5bff7e77-9c9d-491f-8a19-310819c16367",
   "metadata": {},
   "outputs": [
    {
     "data": {
      "text/plain": [
       "(1, 384)"
      ]
     },
     "execution_count": 22,
     "metadata": {},
     "output_type": "execute_result"
    }
   ],
   "source": [
    "np_query_vector.reshape(1,-1).shape"
   ]
  },
  {
   "cell_type": "code",
   "execution_count": 23,
   "id": "f4a08b05-4d5f-4b3a-94a6-b7dc6c147bed",
   "metadata": {},
   "outputs": [
    {
     "data": {
      "text/plain": [
       "1.000000055595223"
      ]
     },
     "execution_count": 23,
     "metadata": {},
     "output_type": "execute_result"
    }
   ],
   "source": [
    "np.linalg.norm(np_query_vector)"
   ]
  },
  {
   "cell_type": "code",
   "execution_count": 29,
   "id": "89395dbe-78ef-46a0-b282-4cb0961a642f",
   "metadata": {},
   "outputs": [],
   "source": [
    "def search_similar_vectors(query, vectors, top_k=5):\n",
    "    def cosine_similarity(vec1, vec2):\n",
    "        return np.dot(vec1, vec2)\n",
    "    np_vectors = np.array(list(vectors.values()))\n",
    "    np_query_vector = np.array(query).reshape(1, -1)\n",
    "    similarities = [(hash_key, cosine_similarity(np_query_vector, vec))\n",
    "                    for hash_key, vec in zip(vectors.keys(), np_vectors)]\n",
    "    similarities.sort(key=lambda x: x[1], reverse=True)\n",
    "    return similarities[:top_k]"
   ]
  },
  {
   "cell_type": "code",
   "execution_count": 30,
   "id": "9a7088cd-268a-40a4-8f0e-241e54727f28",
   "metadata": {},
   "outputs": [],
   "source": [
    "similarities = search_similar_vectors(query_vector,vectors)"
   ]
  },
  {
   "cell_type": "code",
   "execution_count": 31,
   "id": "c6fa4d1c-bee3-4205-be10-404073cbc37b",
   "metadata": {},
   "outputs": [
    {
     "data": {
      "text/plain": [
       "[('952744b4', array([0.45204626])),\n",
       " ('ea3de306', array([0.43985459])),\n",
       " ('23b7911d', array([0.4312436])),\n",
       " ('0bf20e45', array([0.40020578])),\n",
       " ('b5d24268', array([0.37277675]))]"
      ]
     },
     "execution_count": 31,
     "metadata": {},
     "output_type": "execute_result"
    }
   ],
   "source": [
    "similarities"
   ]
  },
  {
   "cell_type": "code",
   "execution_count": 33,
   "id": "beff9067-5277-46a6-8b76-15cd51609e64",
   "metadata": {},
   "outputs": [],
   "source": [
    "chunk_map = {chunk['hash']: chunk['payload'] for chunk in chunk_list}"
   ]
  },
  {
   "cell_type": "code",
   "execution_count": 35,
   "id": "f66a573f-1fac-4813-9639-e8e221f5e155",
   "metadata": {},
   "outputs": [],
   "source": [
    "results = [chunk_map[hash] for hash, _ in similarities]"
   ]
  },
  {
   "cell_type": "code",
   "execution_count": 39,
   "id": "a584d4e9-512e-4583-8e71-c14fd6145bce",
   "metadata": {},
   "outputs": [
    {
     "name": "stdout",
     "output_type": "stream",
     "text": [
      "heading=faq-discussion\n",
      "{{ }}\n",
      "Does this Thread SensorTag support MQTT ?\n",
      "<--->\n",
      "A first firmware was tested with MQTT-SN MQTT Sensors Node , but given that it used the nRF SDK and not Zephyr, development was discontinued. As alternative a simple udp protocol with a python scripts can fulfill the broadcast function from openthread to an MQTT broker details in the udp broadcast example.\n",
      "<===>\n",
      "Is it possible to save energy by collecting many sensor samples over time and sending them together?\n",
      "<--->\n",
      "Yes, sure, the use cases could be slpit as follows :\n",
      "_______________________________________\n",
      "\n",
      "\n",
      "heading=planned-features\n",
      "directional light to reflect room sensors ambient light\n",
      "_______________________________________\n",
      "\n",
      "\n",
      "heading=tag_sensors_broadcast\n",
      "Low power performance :\n",
      "_______________________________________\n",
      "\n",
      "\n",
      "heading=tag_sensors_broadcast\n",
      "language=log\n",
      "inf> main: sleeping 10 sec\n",
      "rtt:~$ rtt:~$ [00:00:23.631,652] <inf> main: starting loop (2)\n",
      "rtt:~$ [00:00:23.631,744] <inf> battery: battery_start> adc_read()\n",
      "rtt:~$ [00:00:23.631,896] <inf> battery: battery_get_mv() raw = 3460\n",
      "rtt:~$ rtt:~$ thread_tags/7009D837C7BB557A{\"alive\":2,\"voltage\":3.041,\"light\":10.097,\"temperature\":25.16,\"humidity\":41.95,\"pressure\":951.01}\n",
      "[00:00:25.298,156] <inf> main: sleeping 10 sec\n",
      "_______________________________________\n",
      "\n",
      "\n",
      "heading=zigbee\n",
      "Zigbee : Low power mesh network, allows to extend the network with repeater devices e.g. zigbee light bulbs. This Home Assistant inetgration is based on Zigpy\n",
      "_______________________________________\n",
      "\n",
      "\n"
     ]
    }
   ],
   "source": [
    "for sentence in results:\n",
    "    print(sentence)\n",
    "    print(\"_______________________________________\\n\\n\")"
   ]
  },
  {
   "cell_type": "code",
   "execution_count": null,
   "id": "a7fd2d95-47d5-4bd6-ab2f-870c51ba9eec",
   "metadata": {},
   "outputs": [],
   "source": []
  }
 ],
 "metadata": {
  "kernelspec": {
   "display_name": "Python 3 (ipykernel)",
   "language": "python",
   "name": "python3"
  },
  "language_info": {
   "codemirror_mode": {
    "name": "ipython",
    "version": 3
   },
   "file_extension": ".py",
   "mimetype": "text/x-python",
   "name": "python",
   "nbconvert_exporter": "python",
   "pygments_lexer": "ipython3",
   "version": "3.10.10"
  }
 },
 "nbformat": 4,
 "nbformat_minor": 5
}
