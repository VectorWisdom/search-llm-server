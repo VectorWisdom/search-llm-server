{
 "cells": [
  {
   "cell_type": "code",
   "execution_count": 1,
   "id": "44619fb5-125e-407b-90c9-39cdfb7c6abe",
   "metadata": {},
   "outputs": [],
   "source": [
    "import utils as utl\n",
    "import faiss\n",
    "import numpy as np"
   ]
  },
  {
   "cell_type": "markdown",
   "id": "1cc9f009-8ed0-4212-a114-6381dc55863e",
   "metadata": {},
   "source": [
    "# Loading data"
   ]
  },
  {
   "cell_type": "code",
   "execution_count": 2,
   "id": "8cc3bd97-c6a1-42e9-8d15-beb3aaa48182",
   "metadata": {},
   "outputs": [
    {
     "name": "stdout",
     "output_type": "stream",
     "text": [
      " pickle file returned 1363 vectors for model 'all-MiniLM-L6-v2'\n"
     ]
    }
   ],
   "source": [
    "vectors_file=\"../.data/vectors.pkl\"\n",
    "# 'text-embedding-ada-002', 'all-MiniLM-L6-v2'\n",
    "model=\"all-MiniLM-L6-v2\"\n",
    "embeddings = utl.load_pickle(vectors_file)\n",
    "vectors = embeddings[model]\n",
    "print(f\" pickle file returned {len(vectors)} vectors for model '{model}'\")"
   ]
  },
  {
   "cell_type": "markdown",
   "id": "35d66c91-851a-4627-83b7-8e00412a4e02",
   "metadata": {},
   "source": [
    "# Format data\n",
    "vectors are `{hash:vector}` map"
   ]
  },
  {
   "cell_type": "code",
   "execution_count": 4,
   "id": "5b67ccbd-c6a0-4263-ac1e-49f9f7bc4a9d",
   "metadata": {},
   "outputs": [
    {
     "data": {
      "text/plain": [
       "(1363, 384)"
      ]
     },
     "execution_count": 4,
     "metadata": {},
     "output_type": "execute_result"
    }
   ],
   "source": [
    "np_vectors = np.array(list(vectors.values()))\n",
    "np_vectors.shape"
   ]
  },
  {
   "cell_type": "markdown",
   "id": "7388ca11-48d6-4525-b6e0-878ec2bf313e",
   "metadata": {},
   "source": [
    "# Indexing"
   ]
  },
  {
   "cell_type": "code",
   "execution_count": 8,
   "id": "31b36689-362d-49f4-9422-ca32302765f5",
   "metadata": {},
   "outputs": [],
   "source": [
    "dimension = np_vectors.shape[1]\n",
    "faiss_index = faiss.IndexFlatL2(dimension)"
   ]
  },
  {
   "cell_type": "code",
   "execution_count": 9,
   "id": "22c5f461-7ec1-49c4-b0a7-212e31d2a978",
   "metadata": {},
   "outputs": [
    {
     "name": "stdout",
     "output_type": "stream",
     "text": [
      "CPU times: total: 0 ns\n",
      "Wall time: 0 ns\n"
     ]
    }
   ],
   "source": [
    "%time\n",
    "faiss_index.add(np_vectors)"
   ]
  },
  {
   "cell_type": "code",
   "execution_count": 10,
   "id": "6d13a20e-858b-4b54-88bd-eb2b0b57e694",
   "metadata": {},
   "outputs": [],
   "source": [
    "faiss.write_index(faiss_index,\"../.data/faiss.index\")"
   ]
  },
  {
   "cell_type": "markdown",
   "id": "b6e7ede5-c8b6-4edf-9145-6583f5c8e56c",
   "metadata": {},
   "source": [
    "# Query"
   ]
  },
  {
   "cell_type": "code",
   "execution_count": 13,
   "id": "4ecd32d5-045e-4a6b-9d59-d1787250353b",
   "metadata": {},
   "outputs": [
    {
     "name": "stdout",
     "output_type": "stream",
     "text": [
      " => 1 embeddings in 135 ms \n"
     ]
    },
    {
     "data": {
      "text/plain": [
       "(1, 384)"
      ]
     },
     "execution_count": 13,
     "metadata": {},
     "output_type": "execute_result"
    }
   ],
   "source": [
    "sentence = \"A smart sensor with a modern wireless protocol, that can sense the environment without consuming much power\"\n",
    "query_vector = utl.get_one_embedding(sentence,model)\n",
    "np_query_vector = np.array(query_vector).reshape(1,-1)\n",
    "np_query_vector.shape"
   ]
  },
  {
   "cell_type": "markdown",
   "id": "5351f08b-fd62-4250-a2d3-9a9adcd1dbb3",
   "metadata": {},
   "source": [
    "## Search"
   ]
  },
  {
   "cell_type": "code",
   "execution_count": 14,
   "id": "c799eb2d-2e9a-434b-9171-4751e76a656f",
   "metadata": {},
   "outputs": [],
   "source": [
    "top_k = 5\n",
    "distances, indices = faiss_index.search(np_query_vector, top_k)"
   ]
  },
  {
   "cell_type": "code",
   "execution_count": 16,
   "id": "caa10ef9-17ed-4e8f-9a86-20f61cb30b6a",
   "metadata": {},
   "outputs": [
    {
     "data": {
      "text/plain": [
       "(array([[1.0959078, 1.120291 , 1.1375129, 1.1995885, 1.2544465]],\n",
       "       dtype=float32),\n",
       " array([[1009,  635,  978,  916,  206]], dtype=int64))"
      ]
     },
     "execution_count": 16,
     "metadata": {},
     "output_type": "execute_result"
    }
   ],
   "source": [
    "result = (distances, indices)\n",
    "result"
   ]
  },
  {
   "cell_type": "code",
   "execution_count": 19,
   "id": "4762187b-82f2-4a9a-9d4b-65142eeefa0d",
   "metadata": {},
   "outputs": [
    {
     "data": {
      "text/plain": [
       "['952744b4', 'ea3de306', '23b7911d', '0bf20e45', 'b5d24268']"
      ]
     },
     "execution_count": 19,
     "metadata": {},
     "output_type": "execute_result"
    }
   ],
   "source": [
    "hashes_list = list(vectors.keys())\n",
    "hashes = [hashes_list[index] for index in indices[0] ]\n",
    "hashes"
   ]
  }
 ],
 "metadata": {
  "kernelspec": {
   "display_name": "Python 3 (ipykernel)",
   "language": "python",
   "name": "python3"
  },
  "language_info": {
   "codemirror_mode": {
    "name": "ipython",
    "version": 3
   },
   "file_extension": ".py",
   "mimetype": "text/x-python",
   "name": "python",
   "nbconvert_exporter": "python",
   "pygments_lexer": "ipython3",
   "version": "3.10.10"
  }
 },
 "nbformat": 4,
 "nbformat_minor": 5
}
