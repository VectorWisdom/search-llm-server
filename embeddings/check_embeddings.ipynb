{
 "cells": [
  {
   "cell_type": "code",
   "execution_count": 1,
   "id": "3710becd-047c-4187-9533-cac4f88fb9b0",
   "metadata": {},
   "outputs": [],
   "source": [
    "import utils as utl\n",
    "\n",
    "chunk_list_file = \"../.data/embedding_chunks.json\"\n",
    "chunk_list = utl.load_json(chunk_list_file)"
   ]
  },
  {
   "cell_type": "code",
   "execution_count": 2,
   "id": "653ad054-4021-4be5-b40c-48d79b0114bd",
   "metadata": {},
   "outputs": [
    {
     "name": "stdout",
     "output_type": "stream",
     "text": [
      " test payload wih 53 tokens\n"
     ]
    }
   ],
   "source": [
    "print(f' test payload wih {chunk_list[0][\"tokens\"]} tokens')"
   ]
  },
  {
   "cell_type": "code",
   "execution_count": 3,
   "id": "2bbe7562-30ea-4c8f-b1fb-2c715bdb2c73",
   "metadata": {},
   "outputs": [
    {
     "name": "stdout",
     "output_type": "stream",
     "text": [
      " => 1 embeddings in 3 s 904 ms \n",
      " embedding model 'all-MiniLM-L6-v2' vector with 384 floats\n"
     ]
    }
   ],
   "source": [
    "model=\"all-MiniLM-L6-v2\"\n",
    "vector = utl.get_one_embedding(chunk_list[0][\"payload\"],model)\n",
    "print(f\" embedding model '{model}' vector with {len(vector)} floats\")"
   ]
  },
  {
   "cell_type": "code",
   "execution_count": 4,
   "id": "7f4ff4ce-4507-465f-8e16-c15014140051",
   "metadata": {},
   "outputs": [
    {
     "name": "stdout",
     "output_type": "stream",
     "text": [
      " => 1 embeddings in 927 ms \n",
      " embedding model 'text-embedding-ada-002' vector with 1536 floats\n"
     ]
    }
   ],
   "source": [
    "model='text-embedding-ada-002'\n",
    "vector = utl.get_one_embedding(chunk_list[0][\"payload\"],model)\n",
    "print(f\" embedding model '{model}' vector with {len(vector)} floats\")"
   ]
  }
 ],
 "metadata": {
  "kernelspec": {
   "display_name": "Python 3 (ipykernel)",
   "language": "python",
   "name": "python3"
  },
  "language_info": {
   "codemirror_mode": {
    "name": "ipython",
    "version": 3
   },
   "file_extension": ".py",
   "mimetype": "text/x-python",
   "name": "python",
   "nbconvert_exporter": "python",
   "pygments_lexer": "ipython3",
   "version": "3.10.10"
  }
 },
 "nbformat": 4,
 "nbformat_minor": 5
}
