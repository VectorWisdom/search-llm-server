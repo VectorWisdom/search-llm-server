{
 "cells": [
  {
   "cell_type": "code",
   "execution_count": 4,
   "id": "3710becd-047c-4187-9533-cac4f88fb9b0",
   "metadata": {},
   "outputs": [],
   "source": [
    "import utils as utl\n",
    "\n",
    "chunk_list_file = \"../.data/embedding_chunks.json\"\n",
    "cache_file=\"../.data/vectors-sentence.pkl\"\n"
   ]
  },
  {
   "cell_type": "code",
   "execution_count": 5,
   "id": "ae516784-9d91-4bf7-bbf1-29006085e2ec",
   "metadata": {},
   "outputs": [],
   "source": [
    "chunk_list = utl.load_json(chunk_list_file)"
   ]
  },
  {
   "cell_type": "code",
   "execution_count": 6,
   "id": "2bbe7562-30ea-4c8f-b1fb-2c715bdb2c73",
   "metadata": {},
   "outputs": [
    {
     "name": "stdout",
     "output_type": "stream",
     "text": [
      "generating embeddings start\n",
      " => 1 embeddings in 4 s 696 ms \n",
      " get_embeddings() returned 1 vectors\n"
     ]
    }
   ],
   "source": [
    "# 'text-embedding-ada-002', 'all-MiniLM-L6-v2'\n",
    "model=\"all-MiniLM-L6-v2\"\n",
    "vectors = utl.get_embeddings(chunk_list[0:1],cache_file,model,batch_size=200)\n",
    "print(f\" get_embeddings() returned {len(vectors)} vectors\")"
   ]
  },
  {
   "cell_type": "code",
   "execution_count": 7,
   "id": "7f4ff4ce-4507-465f-8e16-c15014140051",
   "metadata": {},
   "outputs": [],
   "source": [
    "embeddings = utl.load_pickle(cache_file)"
   ]
  },
  {
   "cell_type": "code",
   "execution_count": 8,
   "id": "9a3ea27c-49ad-491a-bb09-ecd12562d907",
   "metadata": {},
   "outputs": [],
   "source": [
    "example_array = embeddings['all-MiniLM-L6-v2']['b9378c65']"
   ]
  },
  {
   "cell_type": "code",
   "execution_count": 9,
   "id": "0807b3f3-ee44-4760-b57a-f13b8627041c",
   "metadata": {},
   "outputs": [
    {
     "data": {
      "text/plain": [
       "list"
      ]
     },
     "execution_count": 9,
     "metadata": {},
     "output_type": "execute_result"
    }
   ],
   "source": [
    "type(example_array)"
   ]
  },
  {
   "cell_type": "code",
   "execution_count": 13,
   "id": "b891ec04-693f-49fd-a8e9-f9139150226d",
   "metadata": {},
   "outputs": [
    {
     "data": {
      "text/plain": [
       "384"
      ]
     },
     "execution_count": 13,
     "metadata": {},
     "output_type": "execute_result"
    }
   ],
   "source": [
    "len(example_array)"
   ]
  },
  {
   "cell_type": "code",
   "execution_count": 11,
   "id": "bf5407e7-3d2b-49c4-82e6-9a06d80149e5",
   "metadata": {},
   "outputs": [
    {
     "data": {
      "text/plain": [
       "[-0.008221572265028954, -0.010198548436164856]"
      ]
     },
     "execution_count": 11,
     "metadata": {},
     "output_type": "execute_result"
    }
   ],
   "source": [
    "example_array[:2]"
   ]
  },
  {
   "cell_type": "code",
   "execution_count": 12,
   "id": "c3c4de79-ecd9-400c-ba08-f874aa211bc7",
   "metadata": {},
   "outputs": [
    {
     "name": "stdout",
     "output_type": "stream",
     "text": [
      "1 entries saved in ../.data/vectors-sentence.json\n"
     ]
    }
   ],
   "source": [
    "utl.save_json(embeddings,\"../.data/vectors-sentence.json\")\n"
   ]
  },
  {
   "cell_type": "code",
   "execution_count": null,
   "id": "907de877-4ccc-49e2-9a98-2b62e794e1d4",
   "metadata": {},
   "outputs": [],
   "source": []
  }
 ],
 "metadata": {
  "kernelspec": {
   "display_name": "Python 3 (ipykernel)",
   "language": "python",
   "name": "python3"
  },
  "language_info": {
   "codemirror_mode": {
    "name": "ipython",
    "version": 3
   },
   "file_extension": ".py",
   "mimetype": "text/x-python",
   "name": "python",
   "nbconvert_exporter": "python",
   "pygments_lexer": "ipython3",
   "version": "3.10.10"
  }
 },
 "nbformat": 4,
 "nbformat_minor": 5
}
