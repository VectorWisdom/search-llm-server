{
 "cells": [
  {
   "cell_type": "code",
   "execution_count": 1,
   "id": "526623c0-473f-4356-b18a-0b1ea4b2eed4",
   "metadata": {},
   "outputs": [],
   "source": [
    "import utils as utl\n",
    "import faiss_utils as futl"
   ]
  },
  {
   "cell_type": "code",
   "execution_count": 2,
   "id": "0abea338-0fbd-4e56-9f48-9900afe3c612",
   "metadata": {},
   "outputs": [],
   "source": [
    "index_file = \"../.data/faiss.index\"\n",
    "vectors_file = \"../.data/vectors.pkl\"\n",
    "model = \"all-MiniLM-L6-v2\""
   ]
  },
  {
   "cell_type": "code",
   "execution_count": 3,
   "id": "be3e3384-6b88-4c24-8c2d-f9e4083f0c72",
   "metadata": {},
   "outputs": [],
   "source": [
    "futl.build_index(index_file,vectors_file,model)"
   ]
  },
  {
   "cell_type": "code",
   "execution_count": 4,
   "id": "03a278bf-dc58-4f7e-bc7f-44cb4b47c73f",
   "metadata": {},
   "outputs": [],
   "source": [
    "futl.load_index(index_file,vectors_file,model)"
   ]
  },
  {
   "cell_type": "code",
   "execution_count": 5,
   "id": "7a6cf529-c754-499a-88e9-748f9c60c999",
   "metadata": {},
   "outputs": [
    {
     "name": "stdout",
     "output_type": "stream",
     "text": [
      " => 1 embeddings in 3 s 474 ms \n"
     ]
    }
   ],
   "source": [
    "sentence = \"A smart sensor with a modern wireless protocol, that can sense the environment without consuming much power\"\n",
    "query_vector = utl.get_one_embedding(sentence,model)"
   ]
  },
  {
   "cell_type": "code",
   "execution_count": 6,
   "id": "c4d180a5-807c-4dbd-bc56-8c54f8c42003",
   "metadata": {},
   "outputs": [
    {
     "data": {
      "text/plain": [
       "[{'hash': '952744b4', 'distance': 1.0959078},\n",
       " {'hash': 'ea3de306', 'distance': 1.120291},\n",
       " {'hash': '23b7911d', 'distance': 1.1375129},\n",
       " {'hash': '0bf20e45', 'distance': 1.1995885},\n",
       " {'hash': 'b5d24268', 'distance': 1.2544465}]"
      ]
     },
     "execution_count": 6,
     "metadata": {},
     "output_type": "execute_result"
    }
   ],
   "source": [
    "results = futl.search(query_vector)\n",
    "results"
   ]
  },
  {
   "cell_type": "code",
   "execution_count": null,
   "id": "c51ace8e-4fc1-4065-a3c5-4a40424e8ccb",
   "metadata": {},
   "outputs": [],
   "source": []
  }
 ],
 "metadata": {
  "kernelspec": {
   "display_name": "Python 3 (ipykernel)",
   "language": "python",
   "name": "python3"
  },
  "language_info": {
   "codemirror_mode": {
    "name": "ipython",
    "version": 3
   },
   "file_extension": ".py",
   "mimetype": "text/x-python",
   "name": "python",
   "nbconvert_exporter": "python",
   "pygments_lexer": "ipython3",
   "version": "3.10.10"
  }
 },
 "nbformat": 4,
 "nbformat_minor": 5
}
